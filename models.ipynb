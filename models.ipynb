{
  "nbformat": 4,
  "nbformat_minor": 0,
  "metadata": {
    "kernelspec": {
      "display_name": "Python 3",
      "language": "python",
      "name": "python3"
    },
    "language_info": {
      "codemirror_mode": {
        "name": "ipython",
        "version": 3
      },
      "file_extension": ".py",
      "mimetype": "text/x-python",
      "name": "python",
      "nbconvert_exporter": "python",
      "pygments_lexer": "ipython3",
      "version": "3.7.7"
    },
    "colab": {
      "name": "models.ipynb",
      "provenance": [],
      "collapsed_sections": [],
      "toc_visible": true
    },
    "accelerator": "GPU"
  },
  "cells": [
    {
      "cell_type": "code",
      "metadata": {
        "id": "XCuAKH0d-Uj6",
        "colab": {
          "base_uri": "https://localhost:8080/"
        },
        "outputId": "25f1cdc9-ae8b-48f5-8957-68aeb13db791"
      },
      "source": [
        "import pandas as pd\n",
        "import numpy as np\n",
        "import seaborn as sns\n",
        "import matplotlib.pyplot as plt\n",
        "from sklearn.model_selection import train_test_split, StratifiedKFold, GridSearchCV\n",
        "from sklearn.feature_extraction.text import CountVectorizer\n",
        "from sklearn.naive_bayes import MultinomialNB\n",
        "from sklearn.metrics import accuracy_score,confusion_matrix\n",
        "!pip install unidecode\n",
        "from unidecode import unidecode\n",
        "from nltk.corpus import stopwords \n",
        "from sklearn.base import BaseEstimator, TransformerMixin\n",
        "from sklearn.feature_extraction.text import CountVectorizer\n",
        "from sklearn.feature_extraction.text import TfidfVectorizer\n",
        "from sklearn.model_selection import GridSearchCV\n",
        "from sklearn.model_selection import train_test_split\n",
        "from sklearn.pipeline import Pipeline, FeatureUnion\n",
        "from sklearn.metrics import classification_report"
      ],
      "execution_count": 1,
      "outputs": [
        {
          "output_type": "stream",
          "text": [
            "Collecting unidecode\n",
            "\u001b[?25l  Downloading https://files.pythonhosted.org/packages/9e/25/723487ca2a52ebcee88a34d7d1f5a4b80b793f179ee0f62d5371938dfa01/Unidecode-1.2.0-py2.py3-none-any.whl (241kB)\n",
            "\r\u001b[K     |█▍                              | 10kB 22.5MB/s eta 0:00:01\r\u001b[K     |██▊                             | 20kB 16.7MB/s eta 0:00:01\r\u001b[K     |████                            | 30kB 14.2MB/s eta 0:00:01\r\u001b[K     |█████▍                          | 40kB 12.9MB/s eta 0:00:01\r\u001b[K     |██████▉                         | 51kB 6.8MB/s eta 0:00:01\r\u001b[K     |████████▏                       | 61kB 6.7MB/s eta 0:00:01\r\u001b[K     |█████████▌                      | 71kB 7.4MB/s eta 0:00:01\r\u001b[K     |██████████▉                     | 81kB 8.2MB/s eta 0:00:01\r\u001b[K     |████████████▏                   | 92kB 8.3MB/s eta 0:00:01\r\u001b[K     |█████████████▋                  | 102kB 6.6MB/s eta 0:00:01\r\u001b[K     |███████████████                 | 112kB 6.6MB/s eta 0:00:01\r\u001b[K     |████████████████▎               | 122kB 6.6MB/s eta 0:00:01\r\u001b[K     |█████████████████▋              | 133kB 6.6MB/s eta 0:00:01\r\u001b[K     |███████████████████             | 143kB 6.6MB/s eta 0:00:01\r\u001b[K     |████████████████████▍           | 153kB 6.6MB/s eta 0:00:01\r\u001b[K     |█████████████████████▊          | 163kB 6.6MB/s eta 0:00:01\r\u001b[K     |███████████████████████         | 174kB 6.6MB/s eta 0:00:01\r\u001b[K     |████████████████████████▍       | 184kB 6.6MB/s eta 0:00:01\r\u001b[K     |█████████████████████████▊      | 194kB 6.6MB/s eta 0:00:01\r\u001b[K     |███████████████████████████▏    | 204kB 6.6MB/s eta 0:00:01\r\u001b[K     |████████████████████████████▌   | 215kB 6.6MB/s eta 0:00:01\r\u001b[K     |█████████████████████████████▉  | 225kB 6.6MB/s eta 0:00:01\r\u001b[K     |███████████████████████████████▏| 235kB 6.6MB/s eta 0:00:01\r\u001b[K     |████████████████████████████████| 245kB 6.6MB/s \n",
            "\u001b[?25hInstalling collected packages: unidecode\n",
            "Successfully installed unidecode-1.2.0\n"
          ],
          "name": "stdout"
        }
      ]
    },
    {
      "cell_type": "code",
      "metadata": {
        "id": "3td3AzlfL9Q4",
        "colab": {
          "base_uri": "https://localhost:8080/"
        },
        "outputId": "3ce0b7c8-0346-454d-c578-9f3c3243dcab"
      },
      "source": [
        "%%bash\n",
        "mkdir ~/.kaggle\n",
        "mv kaggle.json ~/.kaggle/\n",
        "chmod 600 ~/.kaggle/kaggle.json\n",
        "cat ~/.kaggle/kaggle.json "
      ],
      "execution_count": 2,
      "outputs": [
        {
          "output_type": "stream",
          "text": [
            "{\"username\":\"kristinp9\",\"key\":\"2b9a20aef527a95c59db004baa4642f5\"}"
          ],
          "name": "stdout"
        }
      ]
    },
    {
      "cell_type": "code",
      "metadata": {
        "colab": {
          "base_uri": "https://localhost:8080/"
        },
        "id": "mzM-BDr-OMMY",
        "outputId": "9cd8002f-ca8e-48ef-d7f0-a376e623657b"
      },
      "source": [
        "!kaggle datasets download -d crowdflower/twitter-airline-sentiment"
      ],
      "execution_count": 4,
      "outputs": [
        {
          "output_type": "stream",
          "text": [
            "Downloading twitter-airline-sentiment.zip to /content\n",
            "\r  0% 0.00/2.55M [00:00<?, ?B/s]\n",
            "\r100% 2.55M/2.55M [00:00<00:00, 85.2MB/s]\n"
          ],
          "name": "stdout"
        }
      ]
    },
    {
      "cell_type": "code",
      "metadata": {
        "colab": {
          "base_uri": "https://localhost:8080/"
        },
        "id": "Kjrr-WPyObRb",
        "outputId": "5328743f-c1b4-4c0a-a259-a6b8e87cc847"
      },
      "source": [
        "!unzip twitter-airline-sentiment.zip"
      ],
      "execution_count": 6,
      "outputs": [
        {
          "output_type": "stream",
          "text": [
            "Archive:  twitter-airline-sentiment.zip\n",
            "  inflating: Tweets.csv              \n",
            "  inflating: database.sqlite         \n"
          ],
          "name": "stdout"
        }
      ]
    },
    {
      "cell_type": "code",
      "metadata": {
        "colab": {
          "base_uri": "https://localhost:8080/",
          "height": 434
        },
        "id": "hCdMiAXfOlJ_",
        "outputId": "1cc2faba-5006-4c1d-d67d-bd044bcfce37"
      },
      "source": [
        "df = pd.read_csv(\"Tweets.csv\", dtype=str)\n",
        "df.head()"
      ],
      "execution_count": 10,
      "outputs": [
        {
          "output_type": "execute_result",
          "data": {
            "text/html": [
              "<div>\n",
              "<style scoped>\n",
              "    .dataframe tbody tr th:only-of-type {\n",
              "        vertical-align: middle;\n",
              "    }\n",
              "\n",
              "    .dataframe tbody tr th {\n",
              "        vertical-align: top;\n",
              "    }\n",
              "\n",
              "    .dataframe thead th {\n",
              "        text-align: right;\n",
              "    }\n",
              "</style>\n",
              "<table border=\"1\" class=\"dataframe\">\n",
              "  <thead>\n",
              "    <tr style=\"text-align: right;\">\n",
              "      <th></th>\n",
              "      <th>tweet_id</th>\n",
              "      <th>airline_sentiment</th>\n",
              "      <th>airline_sentiment_confidence</th>\n",
              "      <th>negativereason</th>\n",
              "      <th>negativereason_confidence</th>\n",
              "      <th>airline</th>\n",
              "      <th>airline_sentiment_gold</th>\n",
              "      <th>name</th>\n",
              "      <th>negativereason_gold</th>\n",
              "      <th>retweet_count</th>\n",
              "      <th>text</th>\n",
              "      <th>tweet_coord</th>\n",
              "      <th>tweet_created</th>\n",
              "      <th>tweet_location</th>\n",
              "      <th>user_timezone</th>\n",
              "    </tr>\n",
              "  </thead>\n",
              "  <tbody>\n",
              "    <tr>\n",
              "      <th>0</th>\n",
              "      <td>570306133677760513</td>\n",
              "      <td>neutral</td>\n",
              "      <td>1.0</td>\n",
              "      <td>NaN</td>\n",
              "      <td>NaN</td>\n",
              "      <td>Virgin America</td>\n",
              "      <td>NaN</td>\n",
              "      <td>cairdin</td>\n",
              "      <td>NaN</td>\n",
              "      <td>0</td>\n",
              "      <td>@VirginAmerica What @dhepburn said.</td>\n",
              "      <td>NaN</td>\n",
              "      <td>2015-02-24 11:35:52 -0800</td>\n",
              "      <td>NaN</td>\n",
              "      <td>Eastern Time (US &amp; Canada)</td>\n",
              "    </tr>\n",
              "    <tr>\n",
              "      <th>1</th>\n",
              "      <td>570301130888122368</td>\n",
              "      <td>positive</td>\n",
              "      <td>0.3486</td>\n",
              "      <td>NaN</td>\n",
              "      <td>0.0</td>\n",
              "      <td>Virgin America</td>\n",
              "      <td>NaN</td>\n",
              "      <td>jnardino</td>\n",
              "      <td>NaN</td>\n",
              "      <td>0</td>\n",
              "      <td>@VirginAmerica plus you've added commercials t...</td>\n",
              "      <td>NaN</td>\n",
              "      <td>2015-02-24 11:15:59 -0800</td>\n",
              "      <td>NaN</td>\n",
              "      <td>Pacific Time (US &amp; Canada)</td>\n",
              "    </tr>\n",
              "    <tr>\n",
              "      <th>2</th>\n",
              "      <td>570301083672813571</td>\n",
              "      <td>neutral</td>\n",
              "      <td>0.6837</td>\n",
              "      <td>NaN</td>\n",
              "      <td>NaN</td>\n",
              "      <td>Virgin America</td>\n",
              "      <td>NaN</td>\n",
              "      <td>yvonnalynn</td>\n",
              "      <td>NaN</td>\n",
              "      <td>0</td>\n",
              "      <td>@VirginAmerica I didn't today... Must mean I n...</td>\n",
              "      <td>NaN</td>\n",
              "      <td>2015-02-24 11:15:48 -0800</td>\n",
              "      <td>Lets Play</td>\n",
              "      <td>Central Time (US &amp; Canada)</td>\n",
              "    </tr>\n",
              "    <tr>\n",
              "      <th>3</th>\n",
              "      <td>570301031407624196</td>\n",
              "      <td>negative</td>\n",
              "      <td>1.0</td>\n",
              "      <td>Bad Flight</td>\n",
              "      <td>0.7033</td>\n",
              "      <td>Virgin America</td>\n",
              "      <td>NaN</td>\n",
              "      <td>jnardino</td>\n",
              "      <td>NaN</td>\n",
              "      <td>0</td>\n",
              "      <td>@VirginAmerica it's really aggressive to blast...</td>\n",
              "      <td>NaN</td>\n",
              "      <td>2015-02-24 11:15:36 -0800</td>\n",
              "      <td>NaN</td>\n",
              "      <td>Pacific Time (US &amp; Canada)</td>\n",
              "    </tr>\n",
              "    <tr>\n",
              "      <th>4</th>\n",
              "      <td>570300817074462722</td>\n",
              "      <td>negative</td>\n",
              "      <td>1.0</td>\n",
              "      <td>Can't Tell</td>\n",
              "      <td>1.0</td>\n",
              "      <td>Virgin America</td>\n",
              "      <td>NaN</td>\n",
              "      <td>jnardino</td>\n",
              "      <td>NaN</td>\n",
              "      <td>0</td>\n",
              "      <td>@VirginAmerica and it's a really big bad thing...</td>\n",
              "      <td>NaN</td>\n",
              "      <td>2015-02-24 11:14:45 -0800</td>\n",
              "      <td>NaN</td>\n",
              "      <td>Pacific Time (US &amp; Canada)</td>\n",
              "    </tr>\n",
              "  </tbody>\n",
              "</table>\n",
              "</div>"
            ],
            "text/plain": [
              "             tweet_id  ...               user_timezone\n",
              "0  570306133677760513  ...  Eastern Time (US & Canada)\n",
              "1  570301130888122368  ...  Pacific Time (US & Canada)\n",
              "2  570301083672813571  ...  Central Time (US & Canada)\n",
              "3  570301031407624196  ...  Pacific Time (US & Canada)\n",
              "4  570300817074462722  ...  Pacific Time (US & Canada)\n",
              "\n",
              "[5 rows x 15 columns]"
            ]
          },
          "metadata": {
            "tags": []
          },
          "execution_count": 10
        }
      ]
    },
    {
      "cell_type": "code",
      "metadata": {
        "id": "Pg4YdxhN-UkH",
        "colab": {
          "base_uri": "https://localhost:8080/"
        },
        "outputId": "1bf621b3-07dc-4008-df30-4a5d6dcbe919"
      },
      "source": [
        "df.columns"
      ],
      "execution_count": 11,
      "outputs": [
        {
          "output_type": "execute_result",
          "data": {
            "text/plain": [
              "Index(['tweet_id', 'airline_sentiment', 'airline_sentiment_confidence',\n",
              "       'negativereason', 'negativereason_confidence', 'airline',\n",
              "       'airline_sentiment_gold', 'name', 'negativereason_gold',\n",
              "       'retweet_count', 'text', 'tweet_coord', 'tweet_created',\n",
              "       'tweet_location', 'user_timezone'],\n",
              "      dtype='object')"
            ]
          },
          "metadata": {
            "tags": []
          },
          "execution_count": 11
        }
      ]
    },
    {
      "cell_type": "code",
      "metadata": {
        "colab": {
          "base_uri": "https://localhost:8080/"
        },
        "id": "ZCFMT0g0PGYd",
        "outputId": "86027ca3-3bc5-4d87-9b94-b5a3f5723d04"
      },
      "source": [
        "df.shape"
      ],
      "execution_count": 12,
      "outputs": [
        {
          "output_type": "execute_result",
          "data": {
            "text/plain": [
              "(14640, 15)"
            ]
          },
          "metadata": {
            "tags": []
          },
          "execution_count": 12
        }
      ]
    },
    {
      "cell_type": "code",
      "metadata": {
        "id": "njAIfUST-UkK",
        "colab": {
          "base_uri": "https://localhost:8080/",
          "height": 434
        },
        "outputId": "064ce3f8-00db-4566-e7d7-f8d0bf29b62f"
      },
      "source": [
        "df['count'] = df['text'].str.count(' ') + 1\n",
        "df.head()"
      ],
      "execution_count": 13,
      "outputs": [
        {
          "output_type": "execute_result",
          "data": {
            "text/html": [
              "<div>\n",
              "<style scoped>\n",
              "    .dataframe tbody tr th:only-of-type {\n",
              "        vertical-align: middle;\n",
              "    }\n",
              "\n",
              "    .dataframe tbody tr th {\n",
              "        vertical-align: top;\n",
              "    }\n",
              "\n",
              "    .dataframe thead th {\n",
              "        text-align: right;\n",
              "    }\n",
              "</style>\n",
              "<table border=\"1\" class=\"dataframe\">\n",
              "  <thead>\n",
              "    <tr style=\"text-align: right;\">\n",
              "      <th></th>\n",
              "      <th>tweet_id</th>\n",
              "      <th>airline_sentiment</th>\n",
              "      <th>airline_sentiment_confidence</th>\n",
              "      <th>negativereason</th>\n",
              "      <th>negativereason_confidence</th>\n",
              "      <th>airline</th>\n",
              "      <th>airline_sentiment_gold</th>\n",
              "      <th>name</th>\n",
              "      <th>negativereason_gold</th>\n",
              "      <th>retweet_count</th>\n",
              "      <th>text</th>\n",
              "      <th>tweet_coord</th>\n",
              "      <th>tweet_created</th>\n",
              "      <th>tweet_location</th>\n",
              "      <th>user_timezone</th>\n",
              "      <th>count</th>\n",
              "    </tr>\n",
              "  </thead>\n",
              "  <tbody>\n",
              "    <tr>\n",
              "      <th>0</th>\n",
              "      <td>570306133677760513</td>\n",
              "      <td>neutral</td>\n",
              "      <td>1.0</td>\n",
              "      <td>NaN</td>\n",
              "      <td>NaN</td>\n",
              "      <td>Virgin America</td>\n",
              "      <td>NaN</td>\n",
              "      <td>cairdin</td>\n",
              "      <td>NaN</td>\n",
              "      <td>0</td>\n",
              "      <td>@VirginAmerica What @dhepburn said.</td>\n",
              "      <td>NaN</td>\n",
              "      <td>2015-02-24 11:35:52 -0800</td>\n",
              "      <td>NaN</td>\n",
              "      <td>Eastern Time (US &amp; Canada)</td>\n",
              "      <td>4</td>\n",
              "    </tr>\n",
              "    <tr>\n",
              "      <th>1</th>\n",
              "      <td>570301130888122368</td>\n",
              "      <td>positive</td>\n",
              "      <td>0.3486</td>\n",
              "      <td>NaN</td>\n",
              "      <td>0.0</td>\n",
              "      <td>Virgin America</td>\n",
              "      <td>NaN</td>\n",
              "      <td>jnardino</td>\n",
              "      <td>NaN</td>\n",
              "      <td>0</td>\n",
              "      <td>@VirginAmerica plus you've added commercials t...</td>\n",
              "      <td>NaN</td>\n",
              "      <td>2015-02-24 11:15:59 -0800</td>\n",
              "      <td>NaN</td>\n",
              "      <td>Pacific Time (US &amp; Canada)</td>\n",
              "      <td>9</td>\n",
              "    </tr>\n",
              "    <tr>\n",
              "      <th>2</th>\n",
              "      <td>570301083672813571</td>\n",
              "      <td>neutral</td>\n",
              "      <td>0.6837</td>\n",
              "      <td>NaN</td>\n",
              "      <td>NaN</td>\n",
              "      <td>Virgin America</td>\n",
              "      <td>NaN</td>\n",
              "      <td>yvonnalynn</td>\n",
              "      <td>NaN</td>\n",
              "      <td>0</td>\n",
              "      <td>@VirginAmerica I didn't today... Must mean I n...</td>\n",
              "      <td>NaN</td>\n",
              "      <td>2015-02-24 11:15:48 -0800</td>\n",
              "      <td>Lets Play</td>\n",
              "      <td>Central Time (US &amp; Canada)</td>\n",
              "      <td>12</td>\n",
              "    </tr>\n",
              "    <tr>\n",
              "      <th>3</th>\n",
              "      <td>570301031407624196</td>\n",
              "      <td>negative</td>\n",
              "      <td>1.0</td>\n",
              "      <td>Bad Flight</td>\n",
              "      <td>0.7033</td>\n",
              "      <td>Virgin America</td>\n",
              "      <td>NaN</td>\n",
              "      <td>jnardino</td>\n",
              "      <td>NaN</td>\n",
              "      <td>0</td>\n",
              "      <td>@VirginAmerica it's really aggressive to blast...</td>\n",
              "      <td>NaN</td>\n",
              "      <td>2015-02-24 11:15:36 -0800</td>\n",
              "      <td>NaN</td>\n",
              "      <td>Pacific Time (US &amp; Canada)</td>\n",
              "      <td>17</td>\n",
              "    </tr>\n",
              "    <tr>\n",
              "      <th>4</th>\n",
              "      <td>570300817074462722</td>\n",
              "      <td>negative</td>\n",
              "      <td>1.0</td>\n",
              "      <td>Can't Tell</td>\n",
              "      <td>1.0</td>\n",
              "      <td>Virgin America</td>\n",
              "      <td>NaN</td>\n",
              "      <td>jnardino</td>\n",
              "      <td>NaN</td>\n",
              "      <td>0</td>\n",
              "      <td>@VirginAmerica and it's a really big bad thing...</td>\n",
              "      <td>NaN</td>\n",
              "      <td>2015-02-24 11:14:45 -0800</td>\n",
              "      <td>NaN</td>\n",
              "      <td>Pacific Time (US &amp; Canada)</td>\n",
              "      <td>10</td>\n",
              "    </tr>\n",
              "  </tbody>\n",
              "</table>\n",
              "</div>"
            ],
            "text/plain": [
              "             tweet_id airline_sentiment  ...               user_timezone count\n",
              "0  570306133677760513           neutral  ...  Eastern Time (US & Canada)     4\n",
              "1  570301130888122368          positive  ...  Pacific Time (US & Canada)     9\n",
              "2  570301083672813571           neutral  ...  Central Time (US & Canada)    12\n",
              "3  570301031407624196          negative  ...  Pacific Time (US & Canada)    17\n",
              "4  570300817074462722          negative  ...  Pacific Time (US & Canada)    10\n",
              "\n",
              "[5 rows x 16 columns]"
            ]
          },
          "metadata": {
            "tags": []
          },
          "execution_count": 13
        }
      ]
    },
    {
      "cell_type": "code",
      "metadata": {
        "id": "vAbNG56B-UkM",
        "outputId": "240821a3-e4b0-4db3-ce33-59daeb6f810b"
      },
      "source": [
        "df['text'] = df['text'].str.replace(r'#\\w+', '').str.replace(r'co', '').str.replace(r'http.?://[^\\s]+[\\s]?', '').str.replace(r'@\\w+', '').str.replace(r'\"\\w+', '').str.replace(\"mo\", '')\n",
        "df[\"text\"] = df['text'].str.lower()\n",
        "df.head()"
      ],
      "execution_count": null,
      "outputs": [
        {
          "output_type": "execute_result",
          "data": {
            "text/html": [
              "<div>\n",
              "<style scoped>\n",
              "    .dataframe tbody tr th:only-of-type {\n",
              "        vertical-align: middle;\n",
              "    }\n",
              "\n",
              "    .dataframe tbody tr th {\n",
              "        vertical-align: top;\n",
              "    }\n",
              "\n",
              "    .dataframe thead th {\n",
              "        text-align: right;\n",
              "    }\n",
              "</style>\n",
              "<table border=\"1\" class=\"dataframe\">\n",
              "  <thead>\n",
              "    <tr style=\"text-align: right;\">\n",
              "      <th></th>\n",
              "      <th>user_id</th>\n",
              "      <th>status_id</th>\n",
              "      <th>created_at</th>\n",
              "      <th>screen_name</th>\n",
              "      <th>text</th>\n",
              "      <th>source</th>\n",
              "      <th>is_quote</th>\n",
              "      <th>is_retweet</th>\n",
              "      <th>favorite_count</th>\n",
              "      <th>retweet_count</th>\n",
              "      <th>...</th>\n",
              "      <th>retweet_followers_count</th>\n",
              "      <th>retweet_friends_count</th>\n",
              "      <th>retweet_statuses_count</th>\n",
              "      <th>retweet_location</th>\n",
              "      <th>retweet_description</th>\n",
              "      <th>retweet_verified</th>\n",
              "      <th>urls_url</th>\n",
              "      <th>urls_t_co</th>\n",
              "      <th>clase</th>\n",
              "      <th>count</th>\n",
              "    </tr>\n",
              "  </thead>\n",
              "  <tbody>\n",
              "    <tr>\n",
              "      <th>306149</th>\n",
              "      <td>576528582</td>\n",
              "      <td>1188922604436021249</td>\n",
              "      <td>2019-10-28 20:56:52</td>\n",
              "      <td>alefinocchiaro</td>\n",
              "      <td>gracias a los millones de argentinos que nfiar...</td>\n",
              "      <td>Twitter for iPhone</td>\n",
              "      <td>False</td>\n",
              "      <td>False</td>\n",
              "      <td>292</td>\n",
              "      <td>64</td>\n",
              "      <td>...</td>\n",
              "      <td>NaN</td>\n",
              "      <td>NaN</td>\n",
              "      <td>NaN</td>\n",
              "      <td>NaN</td>\n",
              "      <td>NaN</td>\n",
              "      <td>NaN</td>\n",
              "      <td>NaN</td>\n",
              "      <td>NaN</td>\n",
              "      <td>1</td>\n",
              "      <td>35</td>\n",
              "    </tr>\n",
              "    <tr>\n",
              "      <th>231729</th>\n",
              "      <td>73197872</td>\n",
              "      <td>1235614043357859842</td>\n",
              "      <td>2020-03-05 17:11:59</td>\n",
              "      <td>clauavruj</td>\n",
              "      <td>explicó hace años el gran sigmund freud el sig...</td>\n",
              "      <td>Twitter for Android</td>\n",
              "      <td>False</td>\n",
              "      <td>False</td>\n",
              "      <td>9</td>\n",
              "      <td>4</td>\n",
              "      <td>...</td>\n",
              "      <td>NaN</td>\n",
              "      <td>NaN</td>\n",
              "      <td>NaN</td>\n",
              "      <td>NaN</td>\n",
              "      <td>NaN</td>\n",
              "      <td>NaN</td>\n",
              "      <td>urgente24.com/actualidad/pol…</td>\n",
              "      <td>https://t.co/UP6BIKiMKJ</td>\n",
              "      <td>1</td>\n",
              "      <td>47</td>\n",
              "    </tr>\n",
              "    <tr>\n",
              "      <th>221855</th>\n",
              "      <td>157479149</td>\n",
              "      <td>786949329588191232</td>\n",
              "      <td>2016-10-14 15:18:35</td>\n",
              "      <td>TatoBrown</td>\n",
              "      <td>benchmarking sobre igualdad de oportunidades p...</td>\n",
              "      <td>Twitter for Android</td>\n",
              "      <td>False</td>\n",
              "      <td>False</td>\n",
              "      <td>0</td>\n",
              "      <td>1</td>\n",
              "      <td>...</td>\n",
              "      <td>NaN</td>\n",
              "      <td>NaN</td>\n",
              "      <td>NaN</td>\n",
              "      <td>NaN</td>\n",
              "      <td>NaN</td>\n",
              "      <td>NaN</td>\n",
              "      <td>NaN</td>\n",
              "      <td>NaN</td>\n",
              "      <td>0</td>\n",
              "      <td>12</td>\n",
              "    </tr>\n",
              "    <tr>\n",
              "      <th>155757</th>\n",
              "      <td>95970921</td>\n",
              "      <td>1228710592673873922</td>\n",
              "      <td>2020-02-15 16:00:08</td>\n",
              "      <td>pabloavelluto</td>\n",
              "      <td>por qué no probás n pensar? dale, vos podés. ...</td>\n",
              "      <td>Twitter for iPad</td>\n",
              "      <td>False</td>\n",
              "      <td>False</td>\n",
              "      <td>0</td>\n",
              "      <td>0</td>\n",
              "      <td>...</td>\n",
              "      <td>NaN</td>\n",
              "      <td>NaN</td>\n",
              "      <td>NaN</td>\n",
              "      <td>NaN</td>\n",
              "      <td>NaN</td>\n",
              "      <td>NaN</td>\n",
              "      <td>NaN</td>\n",
              "      <td>NaN</td>\n",
              "      <td>0</td>\n",
              "      <td>11</td>\n",
              "    </tr>\n",
              "    <tr>\n",
              "      <th>248610</th>\n",
              "      <td>1132308934948282368</td>\n",
              "      <td>1352723144453337088</td>\n",
              "      <td>2021-01-22 21:01:44</td>\n",
              "      <td>FrenteDeTodos</td>\n",
              "      <td>el miérles recibí la segunda dosis de mi vacun...</td>\n",
              "      <td>Twitter for iPhone</td>\n",
              "      <td>False</td>\n",
              "      <td>True</td>\n",
              "      <td>0</td>\n",
              "      <td>1030</td>\n",
              "      <td>...</td>\n",
              "      <td>1245270.0</td>\n",
              "      <td>314.0</td>\n",
              "      <td>5052.0</td>\n",
              "      <td>NaN</td>\n",
              "      <td>Gobernador de la Provincia de Buenos Aires.</td>\n",
              "      <td>True</td>\n",
              "      <td>NaN</td>\n",
              "      <td>NaN</td>\n",
              "      <td>1</td>\n",
              "      <td>48</td>\n",
              "    </tr>\n",
              "  </tbody>\n",
              "</table>\n",
              "<p>5 rows × 37 columns</p>\n",
              "</div>"
            ],
            "text/plain": [
              "                    user_id            status_id           created_at  \\\n",
              "306149            576528582  1188922604436021249  2019-10-28 20:56:52   \n",
              "231729             73197872  1235614043357859842  2020-03-05 17:11:59   \n",
              "221855            157479149   786949329588191232  2016-10-14 15:18:35   \n",
              "155757             95970921  1228710592673873922  2020-02-15 16:00:08   \n",
              "248610  1132308934948282368  1352723144453337088  2021-01-22 21:01:44   \n",
              "\n",
              "           screen_name                                               text  \\\n",
              "306149  alefinocchiaro  gracias a los millones de argentinos que nfiar...   \n",
              "231729       clauavruj  explicó hace años el gran sigmund freud el sig...   \n",
              "221855       TatoBrown  benchmarking sobre igualdad de oportunidades p...   \n",
              "155757   pabloavelluto   por qué no probás n pensar? dale, vos podés. ...   \n",
              "248610   FrenteDeTodos  el miérles recibí la segunda dosis de mi vacun...   \n",
              "\n",
              "                     source  is_quote  is_retweet  favorite_count  \\\n",
              "306149   Twitter for iPhone     False       False             292   \n",
              "231729  Twitter for Android     False       False               9   \n",
              "221855  Twitter for Android     False       False               0   \n",
              "155757     Twitter for iPad     False       False               0   \n",
              "248610   Twitter for iPhone     False        True               0   \n",
              "\n",
              "        retweet_count  ... retweet_followers_count retweet_friends_count  \\\n",
              "306149             64  ...                     NaN                   NaN   \n",
              "231729              4  ...                     NaN                   NaN   \n",
              "221855              1  ...                     NaN                   NaN   \n",
              "155757              0  ...                     NaN                   NaN   \n",
              "248610           1030  ...               1245270.0                 314.0   \n",
              "\n",
              "       retweet_statuses_count retweet_location  \\\n",
              "306149                    NaN              NaN   \n",
              "231729                    NaN              NaN   \n",
              "221855                    NaN              NaN   \n",
              "155757                    NaN              NaN   \n",
              "248610                 5052.0              NaN   \n",
              "\n",
              "                                retweet_description  retweet_verified  \\\n",
              "306149                                          NaN               NaN   \n",
              "231729                                          NaN               NaN   \n",
              "221855                                          NaN               NaN   \n",
              "155757                                          NaN               NaN   \n",
              "248610  Gobernador de la Provincia de Buenos Aires.              True   \n",
              "\n",
              "                             urls_url                urls_t_co  clase count  \n",
              "306149                            NaN                      NaN      1    35  \n",
              "231729  urgente24.com/actualidad/pol…  https://t.co/UP6BIKiMKJ      1    47  \n",
              "221855                            NaN                      NaN      0    12  \n",
              "155757                            NaN                      NaN      0    11  \n",
              "248610                            NaN                      NaN      1    48  \n",
              "\n",
              "[5 rows x 37 columns]"
            ]
          },
          "metadata": {
            "tags": []
          },
          "execution_count": 7
        }
      ]
    },
    {
      "cell_type": "code",
      "metadata": {
        "id": "tWfkmif6-UkN"
      },
      "source": [
        "def show_dist(df, col):\n",
        "    print('Descriptive stats for {}'.format(col))\n",
        "    print('-'*(len(col)+22))\n",
        "    print(df.groupby('airline_sentiment')[col].describe())\n",
        "    bins = np.arange(df[col].min(), df[col].max() + 1)\n",
        "    g = sns.FacetGrid(df, col='airline_sentiment', height=5, hue='airline_sentiment', palette=\"PuBuGn_d\")\n",
        "    g = g.map(sns.distplot, col, kde=False, norm_hist=True, bins=bins)\n",
        "    plt.show()"
      ],
      "execution_count": 14,
      "outputs": []
    },
    {
      "cell_type": "code",
      "metadata": {
        "id": "7fwh9OhW-UkP",
        "colab": {
          "base_uri": "https://localhost:8080/",
          "height": 548
        },
        "outputId": "b9893108-eb19-47cc-8e69-5ea3dcd6954d"
      },
      "source": [
        "show_dist(df, 'count')"
      ],
      "execution_count": 15,
      "outputs": [
        {
          "output_type": "stream",
          "text": [
            "Descriptive stats for count\n",
            "---------------------------\n",
            "                    count       mean       std  min   25%   50%   75%   max\n",
            "airline_sentiment                                                          \n",
            "negative           9178.0  19.844520  5.997104  2.0  16.0  21.0  24.0  36.0\n",
            "neutral            3099.0  14.515650  7.023248  2.0   9.0  14.0  20.0  32.0\n",
            "positive           2363.0  14.138383  7.108085  2.0   8.0  14.0  20.0  31.0\n"
          ],
          "name": "stdout"
        },
        {
          "output_type": "stream",
          "text": [
            "/usr/local/lib/python3.7/dist-packages/seaborn/distributions.py:2557: FutureWarning: `distplot` is a deprecated function and will be removed in a future version. Please adapt your code to use either `displot` (a figure-level function with similar flexibility) or `histplot` (an axes-level function for histograms).\n",
            "  warnings.warn(msg, FutureWarning)\n"
          ],
          "name": "stderr"
        },
        {
          "output_type": "display_data",
          "data": {
            "image/png": "[encoded data removed]",
            "text/plain": [
              "<Figure size 1080x360 with 3 Axes>"
            ]
          },
          "metadata": {
            "tags": [],
            "needs_background": "light"
          }
        }
      ]
    },
    {
      "cell_type": "code",
      "metadata": {
        "colab": {
          "base_uri": "https://localhost:8080/"
        },
        "id": "503gk2gDR2zx",
        "outputId": "94eeb6e8-f521-4587-94d8-03b11b5c9825"
      },
      "source": [
        "import re\n",
        "!pip install nltk\n",
        "from nltk.corpus import stopwords\n",
        "import nltk\n",
        "nltk.download(\"stopwords\")"
      ],
      "execution_count": 23,
      "outputs": [
        {
          "output_type": "stream",
          "text": [
            "Requirement already satisfied: nltk in /usr/local/lib/python3.7/dist-packages (3.2.5)\n",
            "Requirement already satisfied: six in /usr/local/lib/python3.7/dist-packages (from nltk) (1.15.0)\n",
            "[nltk_data] Downloading package stopwords to /root/nltk_data...\n",
            "[nltk_data]   Unzipping corpora/stopwords.zip.\n"
          ],
          "name": "stdout"
        },
        {
          "output_type": "execute_result",
          "data": {
            "text/plain": [
              "True"
            ]
          },
          "metadata": {
            "tags": []
          },
          "execution_count": 23
        }
      ]
    },
    {
      "cell_type": "markdown",
      "metadata": {
        "id": "oAQGBOgu_a8J"
      },
      "source": [
        "Quitamos palabras que no tengan valor semántico como artículos, preposiciones, conectores. Quitamos usuario mencionado con @, quitamos links y urls publicadas"
      ]
    },
    {
      "cell_type": "code",
      "metadata": {
        "id": "4V_NWNVQ-UkX",
        "colab": {
          "base_uri": "https://localhost:8080/"
        },
        "outputId": "66241009-966c-4cfa-98d7-c494a40a7021"
      },
      "source": [
        "class CleanText(BaseEstimator, TransformerMixin):\n",
        "    @staticmethod\n",
        "    def _remove_mentions(input_text):\n",
        "        return re.sub(r'@\\w+', '', input_text)\n",
        "\n",
        "    @staticmethod\n",
        "    def _remove_urls(input_text):\n",
        "        return re.sub(r'http.?://[^\\s]+[\\s]?', '', input_text)\n",
        "\n",
        "    @staticmethod\n",
        "    def _remove_stopwords(input_text):\n",
        "        stopwords_list = stopwords.words('english')\n",
        "        whitelist = [[\"n't\", \"not\", \"no\"]]\n",
        "        words = input_text.split() \n",
        "        clean_words = [word for word in words if (word not in stopwords_list or word in whitelist) and len(word) > 1] \n",
        "        return \" \".join(clean_words)\n",
        "\n",
        "    @staticmethod\n",
        "    def _remove_digits(input_text):\n",
        "        return re.sub('\\d+', '', input_text)\n",
        "\n",
        "    @staticmethod\n",
        "    def _to_lower(input_text):\n",
        "        return input_text.lower()\n",
        "    \n",
        "    def fit(self, X, y=None, **fit_params):\n",
        "        return self\n",
        "    \n",
        "    def transform(self, X, **transform_params):\n",
        "        clean_X = X.apply(self._remove_mentions).apply(self._remove_urls).apply(self._remove_stopwords).apply(self._remove_digits).apply(self._to_lower)\n",
        "        return clean_X\n",
        "    \n",
        "\n",
        "ct = CleanText()\n",
        "sr_clean = ct.fit_transform(df.text)\n",
        "sr_clean.sample(5)"
      ],
      "execution_count": 43,
      "outputs": [
        {
          "output_type": "execute_result",
          "data": {
            "text/plain": [
              "11746    told gates open #ord, needed wait mins. still ...\n",
              "11393     what's point baggage claim ticket scan tracking?\n",
              "5629     another ride sw employee printed boarding pass...\n",
              "4791     needs train employees lease somewhat empatheti...\n",
              "6788     trouble signing trueblue today, despite right ...\n",
              "Name: text, dtype: object"
            ]
          },
          "metadata": {
            "tags": []
          },
          "execution_count": 43
        }
      ]
    },
    {
      "cell_type": "markdown",
      "metadata": {
        "id": "RkPlLzqJ-UkZ"
      },
      "source": [
        "## Palabras más frecuentes"
      ]
    },
    {
      "cell_type": "code",
      "metadata": {
        "id": "wwDic0Co-Uka",
        "colab": {
          "base_uri": "https://localhost:8080/",
          "height": 605
        },
        "outputId": "518233ab-49ef-4f84-9009-21cc4b13cb65"
      },
      "source": [
        "import collections\n",
        "\n",
        "cv = CountVectorizer()\n",
        "bow = cv.fit_transform(sr_clean)\n",
        "word_freq = dict(zip(cv.get_feature_names(), np.asarray(bow.sum(axis=0)).ravel()))\n",
        "word_counter = collections.Counter(word_freq)\n",
        "word_counter_df = pd.DataFrame(word_counter.most_common(20), columns = ['word', 'freq'])\n",
        "fig, ax = plt.subplots(figsize=(12, 10))\n",
        "sns.barplot(x=\"word\", y=\"freq\", data=word_counter_df, palette=\"PuBuGn_d\", ax=ax)\n",
        "plt.show();"
      ],
      "execution_count": 25,
      "outputs": [
        {
          "output_type": "display_data",
          "data": {
            "image/png": "[encoded data removed]",
            "text/plain": [
              "<Figure size 864x720 with 1 Axes>"
            ]
          },
          "metadata": {
            "tags": [],
            "needs_background": "light"
          }
        }
      ]
    },
    {
      "cell_type": "code",
      "metadata": {
        "id": "uvMPISUf-Uke",
        "outputId": "8e46725d-a8f1-490b-b652-fff2fc3cf022"
      },
      "source": [
        "df=df.sample(frac=0.3)\n",
        "df.shape"
      ],
      "execution_count": null,
      "outputs": [
        {
          "output_type": "execute_result",
          "data": {
            "text/plain": [
              "(10392, 37)"
            ]
          },
          "metadata": {
            "tags": []
          },
          "execution_count": 18
        }
      ]
    },
    {
      "cell_type": "code",
      "metadata": {
        "colab": {
          "base_uri": "https://localhost:8080/"
        },
        "id": "uAQqDJaRSzvA",
        "outputId": "cefe1edb-a8aa-4741-914e-6bb036200fac"
      },
      "source": [
        "df.airline_sentiment.value_counts() #positivos y neutrales en una clase para hacer observaciones bianarias"
      ],
      "execution_count": 29,
      "outputs": [
        {
          "output_type": "execute_result",
          "data": {
            "text/plain": [
              "negative    9178\n",
              "neutral     3099\n",
              "positive    2363\n",
              "Name: airline_sentiment, dtype: int64"
            ]
          },
          "metadata": {
            "tags": []
          },
          "execution_count": 29
        }
      ]
    },
    {
      "cell_type": "code",
      "metadata": {
        "colab": {
          "base_uri": "https://localhost:8080/"
        },
        "id": "iaaZB3HYS9x0",
        "outputId": "6b75ba25-53cb-46d4-fb12-3bd0859c1ffe"
      },
      "source": [
        "df['airline_sentiment'] = df['airline_sentiment'].replace({'neutral':'positive'})\n",
        "df.airline_sentiment.value_counts()"
      ],
      "execution_count": 31,
      "outputs": [
        {
          "output_type": "execute_result",
          "data": {
            "text/plain": [
              "negative    9178\n",
              "positive    5462\n",
              "Name: airline_sentiment, dtype: int64"
            ]
          },
          "metadata": {
            "tags": []
          },
          "execution_count": 31
        }
      ]
    },
    {
      "cell_type": "markdown",
      "metadata": {
        "id": "S-qCuVHu-Ukf"
      },
      "source": [
        "## Modelo TfidVerctorizer\n",
        "### Esto además de la frecuencia tiene en cuenta el peso de la palabra si figura menos veces"
      ]
    },
    {
      "cell_type": "code",
      "metadata": {
        "id": "hCaPhmPm-Ukf",
        "colab": {
          "base_uri": "https://localhost:8080/"
        },
        "outputId": "0353f0a1-4846-40b4-e541-876e84546a5a"
      },
      "source": [
        "from sklearn.feature_extraction.text import TfidfVectorizer\n",
        "\n",
        "stop_words = stopwords.words('english');\n",
        "\n",
        "Train,Test=train_test_split(df[['text','airline_sentiment']],stratify=df['airline_sentiment'],random_state=3);\n",
        "\n",
        "Train.reset_index(drop=True,inplace=True);\n",
        "Test.reset_index(drop=True,inplace=True);\n",
        "\n",
        "tvectorizer=TfidfVectorizer(strip_accents='unicode',stop_words=stop_words);\n",
        "tvectorizer.fit(Train['text']);\n",
        "\n",
        "X_train=tvectorizer.transform(Train['text']);\n",
        "X_test=tvectorizer.transform(Test['text']);\n",
        "\n",
        "y_train=Train['airline_sentiment'];\n",
        "y_test=Test['airline_sentiment'];\n",
        "\n",
        "NBC=MultinomialNB();\n",
        "\n",
        "NBC.fit(X_train.todense(),Train['airline_sentiment']);\n",
        "\n",
        "test_pred=NBC.predict(X_test.todense());\n",
        "\n",
        "print('Training set shape:',X_train.shape)\n",
        "\n",
        "print('\\nTest Accuracy:',accuracy_score(Test['airline_sentiment'],test_pred))\n",
        "\n",
        "print('\\nConfusion Matrix:\\n',confusion_matrix(Test['airline_sentiment'],test_pred))\n"
      ],
      "execution_count": 32,
      "outputs": [
        {
          "output_type": "stream",
          "text": [
            "Training set shape: (10980, 12617)\n",
            "\n",
            "Test Accuracy: 0.7825136612021858\n",
            "\n",
            "Confusion Matrix:\n",
            " [[2248   47]\n",
            " [ 749  616]]\n"
          ],
          "name": "stdout"
        }
      ]
    },
    {
      "cell_type": "code",
      "metadata": {
        "id": "0xNiiHd--Ukh",
        "colab": {
          "base_uri": "https://localhost:8080/"
        },
        "outputId": "5e3e929e-e101-4d6c-b3c9-f9dc9074bfe9"
      },
      "source": [
        "skf=StratifiedKFold(n_splits=3,random_state=0,shuffle=True);\n",
        "\n",
        "params={'alpha':np.arange(0.1,2,0.1)};\n",
        "GS_CV=GridSearchCV(MultinomialNB(),params,cv=skf,verbose=1,n_jobs=-1);\n",
        "GS_CV.fit(X_train,y_train);\n",
        "print('best score:',GS_CV.best_score_)\n",
        "print('best params:',GS_CV.best_params_)\n",
        "\n",
        "best_model=GS_CV.best_estimator_;\n",
        "best_model.fit(X_train,y_train); # entrenamos en todo el training set\n",
        "\n",
        "print('\\nTest set:\\n')\n",
        "\n",
        "test_pred=best_model.predict(X_test);\n",
        "\n",
        "print('accuracy:',accuracy_score(Test['airline_sentiment'],test_pred))\n",
        "\n",
        "print('\\nconfusion:\\n',confusion_matrix(Test['airline_sentiment'],test_pred))"
      ],
      "execution_count": 33,
      "outputs": [
        {
          "output_type": "stream",
          "text": [
            "Fitting 3 folds for each of 19 candidates, totalling 57 fits\n"
          ],
          "name": "stdout"
        },
        {
          "output_type": "stream",
          "text": [
            "[Parallel(n_jobs=-1)]: Using backend LokyBackend with 2 concurrent workers.\n"
          ],
          "name": "stderr"
        },
        {
          "output_type": "stream",
          "text": [
            "best score: 0.8004553734061931\n",
            "best params: {'alpha': 0.2}\n",
            "\n",
            "Test set:\n",
            "\n",
            "accuracy: 0.8109289617486338\n",
            "\n",
            "confusion:\n",
            " [[2177  118]\n",
            " [ 574  791]]\n"
          ],
          "name": "stdout"
        },
        {
          "output_type": "stream",
          "text": [
            "[Parallel(n_jobs=-1)]: Done  57 out of  57 | elapsed:    2.2s finished\n"
          ],
          "name": "stderr"
        }
      ]
    },
    {
      "cell_type": "code",
      "metadata": {
        "id": "jVEvJK03-Ukj",
        "colab": {
          "base_uri": "https://localhost:8080/",
          "height": 938
        },
        "outputId": "7b9b7386-e659-479f-adf4-3f9a3373faf7"
      },
      "source": [
        "relative_importance=best_model.feature_log_prob_[0]/best_model.feature_log_prob_[1];\n",
        "#relative_importance < 1 implica que\n",
        "# el coeficiente asignado en la clase 0 es mayor que en la clase 1 y vicevera\n",
        "\n",
        "sns.distplot(relative_importance)\n",
        "plt.xlabel('Importancia Relativa')\n",
        "\n",
        "features=np.array(tvectorizer.get_feature_names());\n",
        "\n",
        "indices=np.argsort(relative_importance);\n",
        "\n",
        "print('Términos representativos de negativos:\\n')\n",
        "print(features[indices[:100]])\n",
        "\n",
        "print('\\nTérminos representativos de neutrales/positivos:\\n')\n",
        "print(features[indices[-100:]])\n"
      ],
      "execution_count": 35,
      "outputs": [
        {
          "output_type": "stream",
          "text": [
            "/usr/local/lib/python3.7/dist-packages/seaborn/distributions.py:2557: FutureWarning: `distplot` is a deprecated function and will be removed in a future version. Please adapt your code to use either `displot` (a figure-level function with similar flexibility) or `histplot` (an axes-level function for histograms).\n",
            "  warnings.warn(msg, FutureWarning)\n"
          ],
          "name": "stderr"
        },
        {
          "output_type": "stream",
          "text": [
            "Términos representativos de negativos:\n",
            "\n",
            "['worst' 'ridiculous' 'unacceptable' 'worse' 'suck' 'hr' 'hours' 'hold'\n",
            " 'fail' 'communication' 'automated' 'hrs' 'rude' 'tarmac' 'disappointed'\n",
            " 'fuck' 'answers' 'lack' 'half' 'neveragain' 'phones' 'useless' 'terrible'\n",
            " 'hangs' 'pathetic' 'lose' 'lines' 'paid' 'except' 'hour' 'bother'\n",
            " 'unhappy' 'hung' 'spent' 'lies' 'impossible' 'forced' 'sucks' 'stranded'\n",
            " 'switched' 'delayed' 'suitcase' 'badservice' 'disconnected' 'ruining'\n",
            " 'bs' 'incompetent' 'unhelpful' 'nightmare' 'human' 'luggage' 'frustrated'\n",
            " 'disappointing' 'solution' '40' 'nothing' 'jetway' 'lost' '2hrs'\n",
            " 'counting' 'denied' 'screw' 'promised' 'feeling' 'incompetence' 'numbers'\n",
            " 'system' 'hire' 'funds' 'nothappy' 'customers' 'poor' 'unprofessional'\n",
            " 'waiting' 'joke' 'training' 'waited' 'annoying' '5hrs' 'fix' 'third'\n",
            " 'twice' 'sitting' 'absurd' 'whose' 'treat' 'wasting' 'prepared'\n",
            " 'computers' 'canned' 'excuses' 'stuck' 'disgusting' 'loaded'\n",
            " 'unfriendlyskies' 'courtesy' 'crappy' 'fucking' 'english' 'queue']\n",
            "\n",
            "Términos representativos de neutrales/positivos:\n",
            "\n",
            "['touchdown' 'headphones' '80th' 'frontier' 'beauty' '3d' 'imagine'\n",
            " 'admiral' 'nantucket' 'loving' 'lord' 'replies' 'nassau' 'recovery'\n",
            " 'glasgow' 'haiti' 'beats' 'definitely' 'lmfao' 'livery' 'cb' 'oak'\n",
            " 'bostonlogan' 'frontrunner' 'oscars2016' 'field' 'march' 'adds'\n",
            " 'excellent' 'flytpa' 'digital' 'bestairline' 'promo' 'karen' '8aug'\n",
            " 'street' 'gosh' 'smile' 'quick' 'enquires' 'daily' 'redcarpet' '747'\n",
            " 'fav' 'suicide' 'teens' 'speedy' 'sweet' 'follow' 'license' 'application'\n",
            " 'hawaii' 'seeks' 'kudos' 'rock' 'awesome' 'fleet' 'boss' 'ed' 'november'\n",
            " 'great' 'pleasure' 'beautiful' 'commercial' 'photos' 'exceptional' 'utah'\n",
            " 'fleek' 'lmao' 'destinationdragons' 'discounts' 'bluemanity' 'worries'\n",
            " 'comfortable' 'australia' 'smooth' 'velourlive' 'reminder' 'amazing'\n",
            " 'dragons' 'lauren' 'aww' 'ladygaga' 'outstanding' 'jblu' 'love_dragonss'\n",
            " 'winners' 'carrieunderwood' 'flyingitforward' 'thanks' 'april' 'selfie'\n",
            " 'favorite' 'passbook' 'journal' 'avgeek' 'deals' 'fortunemagazine'\n",
            " 'thank' 'imaginedragons']\n"
          ],
          "name": "stdout"
        },
        {
          "output_type": "display_data",
          "data": {
            "image/png": "[encoded data removed]",
            "text/plain": [
              "<Figure size 432x288 with 1 Axes>"
            ]
          },
          "metadata": {
            "tags": [],
            "needs_background": "light"
          }
        }
      ]
    },
    {
      "cell_type": "markdown",
      "metadata": {
        "id": "6j4ZbE2f-Ukk"
      },
      "source": [
        "## Modelo CountVectorizer"
      ]
    },
    {
      "cell_type": "code",
      "metadata": {
        "id": "bTUmz1Xe-Ukk",
        "colab": {
          "base_uri": "https://localhost:8080/"
        },
        "outputId": "d1338a36-12a1-45e5-c439-8a39c534f8f6"
      },
      "source": [
        "stop_words = stopwords.words('english');\n",
        "\n",
        "Train,Test=train_test_split(df[['text','airline_sentiment']],stratify=df['airline_sentiment'],random_state=3);\n",
        "\n",
        "Train.reset_index(drop=True,inplace=True);\n",
        "Test.reset_index(drop=True,inplace=True);\n",
        "\n",
        "vectorizer=CountVectorizer(strip_accents='unicode',stop_words=stop_words);\n",
        "vectorizer.fit(Train['text']);\n",
        "\n",
        "X_train=vectorizer.transform(Train['text']);\n",
        "X_test=vectorizer.transform(Test['text']);\n",
        "\n",
        "y_train=Train['airline_sentiment'];\n",
        "y_test=Test['airline_sentiment'];\n",
        "\n",
        "NBC=MultinomialNB();\n",
        "\n",
        "NBC.fit(X_train.todense(),Train['airline_sentiment']);\n",
        "\n",
        "test_pred=NBC.predict(X_test.todense());\n",
        "\n",
        "print('Training set shape:',X_train.shape)\n",
        "\n",
        "print('\\nTest Accuracy:',accuracy_score(Test['airline_sentiment'],test_pred))\n",
        "\n",
        "print('\\nConfusion Matrix:\\n',confusion_matrix(Test['airline_sentiment'],test_pred))\n"
      ],
      "execution_count": 37,
      "outputs": [
        {
          "output_type": "stream",
          "text": [
            "Training set shape: (10980, 12617)\n",
            "\n",
            "Test Accuracy: 0.8202185792349727\n",
            "\n",
            "Confusion Matrix:\n",
            " [[2127  168]\n",
            " [ 490  875]]\n"
          ],
          "name": "stdout"
        }
      ]
    },
    {
      "cell_type": "code",
      "metadata": {
        "id": "13LcLcGk-Ukm",
        "colab": {
          "base_uri": "https://localhost:8080/"
        },
        "outputId": "3db596b1-da3c-4bb5-cfe7-b6864d2de865"
      },
      "source": [
        "skf=StratifiedKFold(n_splits=3,random_state=0,shuffle=True);\n",
        "\n",
        "params={'alpha':np.arange(0.1,2,0.1)};\n",
        "GS_CV=GridSearchCV(MultinomialNB(),params,cv=skf,verbose=1,n_jobs=-1);\n",
        "GS_CV.fit(X_train,y_train);\n",
        "print('best score:',GS_CV.best_score_)\n",
        "print('best params:',GS_CV.best_params_)\n",
        "\n",
        "best_model=GS_CV.best_estimator_;\n",
        "best_model.fit(X_train,y_train); # entrenamos en todo el training set\n",
        "\n",
        "print('\\nTest set:\\n')\n",
        "\n",
        "test_pred=best_model.predict(X_test);\n",
        "\n",
        "print('accuracy:',accuracy_score(Test['airline_sentiment'],test_pred))\n",
        "\n",
        "print('\\nconfusion:\\n',confusion_matrix(Test['airline_sentiment'],test_pred))"
      ],
      "execution_count": 38,
      "outputs": [
        {
          "output_type": "stream",
          "text": [
            "Fitting 3 folds for each of 19 candidates, totalling 57 fits\n"
          ],
          "name": "stdout"
        },
        {
          "output_type": "stream",
          "text": [
            "[Parallel(n_jobs=-1)]: Using backend LokyBackend with 2 concurrent workers.\n"
          ],
          "name": "stderr"
        },
        {
          "output_type": "stream",
          "text": [
            "best score: 0.8094717668488159\n",
            "best params: {'alpha': 0.30000000000000004}\n",
            "\n",
            "Test set:\n",
            "\n",
            "accuracy: 0.8207650273224044\n",
            "\n",
            "confusion:\n",
            " [[2075  220]\n",
            " [ 436  929]]\n"
          ],
          "name": "stdout"
        },
        {
          "output_type": "stream",
          "text": [
            "[Parallel(n_jobs=-1)]: Done  57 out of  57 | elapsed:    1.3s finished\n"
          ],
          "name": "stderr"
        }
      ]
    },
    {
      "cell_type": "code",
      "metadata": {
        "id": "ypHDK-Fq-Uko",
        "colab": {
          "base_uri": "https://localhost:8080/",
          "height": 956
        },
        "outputId": "e809cb77-2f45-4aa9-fad1-899cef39bba3"
      },
      "source": [
        "relative_importance=best_model.feature_log_prob_[0]/best_model.feature_log_prob_[1];\n",
        "#relative_importance < 1 implica que\n",
        "# el coeficiente asignado en la clase 0 es mayor que en la clase 1 y vicevera\n",
        "\n",
        "sns.distplot(relative_importance)\n",
        "plt.xlabel('Importancia Relativa')\n",
        "\n",
        "features=np.array(vectorizer.get_feature_names());\n",
        "\n",
        "indices=np.argsort(relative_importance);\n",
        "\n",
        "print('Términos representativos de negativos:\\n')\n",
        "print(features[indices[:100]])\n",
        "\n",
        "print('\\nTérminos representativos de neutrales/positivos:\\n')\n",
        "print(features[indices[-100:]])\n"
      ],
      "execution_count": 39,
      "outputs": [
        {
          "output_type": "stream",
          "text": [
            "/usr/local/lib/python3.7/dist-packages/seaborn/distributions.py:2557: FutureWarning: `distplot` is a deprecated function and will be removed in a future version. Please adapt your code to use either `displot` (a figure-level function with similar flexibility) or `histplot` (an axes-level function for histograms).\n",
            "  warnings.warn(msg, FutureWarning)\n"
          ],
          "name": "stderr"
        },
        {
          "output_type": "stream",
          "text": [
            "Términos representativos de negativos:\n",
            "\n",
            "['worst' 'ridiculous' 'unacceptable' 'hr' 'worse' 'communication' 'hours'\n",
            " 'automated' 'suck' 'fail' 'hold' 'answers' 'rude' 'tarmac' 'neveragain'\n",
            " 'phones' 'useless' 'lines' 'hrs' 'hangs' 'forced' 'fuck' 'disappointed'\n",
            " 'unhappy' 'except' 'lies' 'pathetic' 'lack' 'half' 'switched' 'bother'\n",
            " 'impossible' 'suitcase' 'badservice' 'bs' 'denied' 'disappointing'\n",
            " 'ruining' 'unhelpful' 'promised' 'incompetent' '2hrs' 'nightmare'\n",
            " 'jetway' '5hrs' 'screw' 'incompetence' 'solution' 'delayed' 'training'\n",
            " 'nothappy' 'hire' 'numbers' 'unprofessional' 'funds' 'hung' 'hour'\n",
            " 'spent' 'lose' 'paid' 'terrible' 'annoying' 'disgusting' 'third'\n",
            " 'courtesy' 'whose' 'feeling' 'frustrated' 'stranded' 'computers' 'crappy'\n",
            " '400' 'wasting' 'reimbursement' 'badcustomerservice' '3hrs' 'english'\n",
            " 'absurd' 'diff' '70' 'prepared' 'stopped' 'unfriendlyskies' 'inside'\n",
            " 'dirty' 'sleeping' 'human' 'luggage' 'mins' 'fix' 'broken' 'canned'\n",
            " 'drove' 'hostage' 'hotels' 'nasty' 'disgusted' 'thats' 'shameful'\n",
            " 'miserable']\n",
            "\n",
            "Términos representativos de neutrales/positivos:\n",
            "\n",
            "['pens' 'perfectomobile' 'wonderful' 'battles' 'hawaii' 'sweet' 'raise'\n",
            " 'rock' 'kudos' 'awesome' 'fleet' 'promo' 'beautiful' 'great' 'daily'\n",
            " 'street' 'marks' 'livery' 'boss' 'headphones' 'loving' 'collection'\n",
            " 'nantucket' 'nasdaq' 'cheapflights' 'nassau' 'king' 'november' 'oak'\n",
            " '80th' 'admiral' 'robin' 'enquires' 'removal' 'included' 'flyitforward'\n",
            " 'superior' '3d' 'redcarpet' 'speedy' 'cessna' 'bestairline' 'farecompare'\n",
            " 'beauty' 'brandmance' 'touchdown' 'beats' 'fleek' 'thanks' 'worries'\n",
            " 'destinationdragons' 'photos' 'digital' 'karen' 'smile' 'application'\n",
            " 'field' 'haiti' 'bostonlogan' 'utah' '8aug' 'suicide' 'adds' 'teens'\n",
            " 'pleasure' 'flytpa' 'lmao' 'dragons' 'amazing' 'discounts' 'commercial'\n",
            " 'lauren' 'aww' '747' 'seeks' 'smooth' 'license' 'exceptional'\n",
            " 'comfortable' 'favorite' 'love_dragonss' 'australia' 'reminder'\n",
            " 'velourlive' 'bluemanity' 'passbook' 'selfie' 'ladygaga' 'winners'\n",
            " 'carrieunderwood' 'outstanding' 'fortunemagazine' 'jblu' 'april' 'thank'\n",
            " 'flyingitforward' 'journal' 'deals' 'avgeek' 'imaginedragons']\n"
          ],
          "name": "stdout"
        },
        {
          "output_type": "display_data",
          "data": {
            "image/png": "[encoded data removed]",
            "text/plain": [
              "<Figure size 432x288 with 1 Axes>"
            ]
          },
          "metadata": {
            "tags": [],
            "needs_background": "light"
          }
        }
      ]
    }
  ]
}