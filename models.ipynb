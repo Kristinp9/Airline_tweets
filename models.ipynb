{
  "nbformat": 4,
  "nbformat_minor": 0,
  "metadata": {
    "kernelspec": {
      "display_name": "Python 3",
      "language": "python",
      "name": "python3"
    },
    "language_info": {
      "codemirror_mode": {
        "name": "ipython",
        "version": 3
      },
      "file_extension": ".py",
      "mimetype": "text/x-python",
      "name": "python",
      "nbconvert_exporter": "python",
      "pygments_lexer": "ipython3",
      "version": "3.7.7"
    },
    "colab": {
      "name": "models.ipynb",
      "provenance": [],
      "collapsed_sections": []
    },
    "accelerator": "GPU"
  },
  "cells": [
    {
      "cell_type": "code",
      "metadata": {
        "id": "XCuAKH0d-Uj6",
        "colab": {
          "base_uri": "https://localhost:8080/"
        },
        "outputId": "45b39c20-34d7-49d3-ae2f-75a88876d1b5"
      },
      "source": [
        "import pandas as pd\n",
        "import numpy as np\n",
        "import seaborn as sns\n",
        "import matplotlib.pyplot as plt\n",
        "from sklearn.model_selection import train_test_split, StratifiedKFold, GridSearchCV\n",
        "from sklearn.feature_extraction.text import CountVectorizer\n",
        "from sklearn.naive_bayes import MultinomialNB\n",
        "from sklearn.metrics import accuracy_score,confusion_matrix\n",
        "!pip install unidecode\n",
        "from unidecode import unidecode\n",
        "from nltk.corpus import stopwords \n",
        "from sklearn.base import BaseEstimator, TransformerMixin\n",
        "from sklearn.feature_extraction.text import CountVectorizer\n",
        "from sklearn.feature_extraction.text import TfidfVectorizer\n",
        "from sklearn.model_selection import GridSearchCV\n",
        "from sklearn.model_selection import train_test_split\n",
        "from sklearn.pipeline import Pipeline, FeatureUnion\n",
        "from sklearn.metrics import classification_report"
      ],
      "execution_count": 24,
      "outputs": [
        {
          "output_type": "stream",
          "text": [
            "Requirement already satisfied: unidecode in /usr/local/lib/python3.7/dist-packages (1.2.0)\n"
          ],
          "name": "stdout"
        }
      ]
    },
    {
      "cell_type": "code",
      "metadata": {
        "id": "3td3AzlfL9Q4",
        "colab": {
          "base_uri": "https://localhost:8080/"
        },
        "outputId": "e572af09-d1c4-4fa3-9ce9-c84b4125a5fe"
      },
      "source": [
        "%%bash\n",
        "mkdir ~/.kaggle\n",
        "mv kaggle.json ~/.kaggle/\n",
        "chmod 600 ~/.kaggle/kaggle.json\n",
        "cat ~/.kaggle/kaggle.json "
      ],
      "execution_count": 25,
      "outputs": [
        {
          "output_type": "stream",
          "text": [
            "{\"username\":\"kristinp9\",\"key\":\"2b9a20aef527a95c59db004baa4642f5\"}"
          ],
          "name": "stdout"
        },
        {
          "output_type": "stream",
          "text": [
            "mkdir: cannot create directory ‘/root/.kaggle’: File exists\n",
            "mv: cannot stat 'kaggle.json': No such file or directory\n"
          ],
          "name": "stderr"
        }
      ]
    },
    {
      "cell_type": "code",
      "metadata": {
        "colab": {
          "base_uri": "https://localhost:8080/"
        },
        "id": "mzM-BDr-OMMY",
        "outputId": "159adb1c-ffbd-46ba-c733-38a3766a4cd4"
      },
      "source": [
        "!kaggle datasets download -d crowdflower/twitter-airline-sentiment"
      ],
      "execution_count": 26,
      "outputs": [
        {
          "output_type": "stream",
          "text": [
            "twitter-airline-sentiment.zip: Skipping, found more recently modified local copy (use --force to force download)\n"
          ],
          "name": "stdout"
        }
      ]
    },
    {
      "cell_type": "code",
      "metadata": {
        "colab": {
          "base_uri": "https://localhost:8080/"
        },
        "id": "Kjrr-WPyObRb",
        "outputId": "8dfef624-afc6-4cfc-8359-daf19f16a27c"
      },
      "source": [
        "!unzip twitter-airline-sentiment.zip"
      ],
      "execution_count": null,
      "outputs": [
        {
          "output_type": "stream",
          "text": [
            "Archive:  twitter-airline-sentiment.zip\n",
            "replace Tweets.csv? [y]es, [n]o, [A]ll, [N]one, [r]ename: "
          ],
          "name": "stdout"
        }
      ]
    },
    {
      "cell_type": "code",
      "metadata": {
        "id": "hCdMiAXfOlJ_"
      },
      "source": [
        "df = pd.read_csv(\"Tweets.csv\", dtype=str)\n",
        "df.head()"
      ],
      "execution_count": null,
      "outputs": []
    },
    {
      "cell_type": "code",
      "metadata": {
        "id": "Pg4YdxhN-UkH"
      },
      "source": [
        "df.columns"
      ],
      "execution_count": null,
      "outputs": []
    },
    {
      "cell_type": "code",
      "metadata": {
        "id": "ZCFMT0g0PGYd"
      },
      "source": [
        "df.shape"
      ],
      "execution_count": null,
      "outputs": []
    },
    {
      "cell_type": "code",
      "metadata": {
        "id": "njAIfUST-UkK"
      },
      "source": [
        "df['count'] = df['text'].str.count(' ') + 1\n",
        "df.head()"
      ],
      "execution_count": null,
      "outputs": []
    },
    {
      "cell_type": "code",
      "metadata": {
        "id": "vAbNG56B-UkM"
      },
      "source": [
        "df['text'] = df['text'].str.replace(r'#\\w+', '').str.replace(r'http.?://[^\\s]+[\\s]?', '').str.replace(r'@\\w+', '').str.replace(r'\"\\w+', '').str.replace('\\d+', '')\n",
        "df[\"text\"] = df['text'].str.lower()\n",
        "df.head()"
      ],
      "execution_count": null,
      "outputs": []
    },
    {
      "cell_type": "code",
      "metadata": {
        "id": "tWfkmif6-UkN"
      },
      "source": [
        "def show_dist(df, col):\n",
        "    print('Descriptive stats for {}'.format(col))\n",
        "    print('-'*(len(col)+22))\n",
        "    print(df.groupby('airline_sentiment')[col].describe())\n",
        "    bins = np.arange(df[col].min(), df[col].max() + 1)\n",
        "    g = sns.FacetGrid(df, col='airline_sentiment', height=5, hue='airline_sentiment', palette=\"PuBuGn_d\")\n",
        "    g = g.map(sns.distplot, col, kde=False, norm_hist=True, bins=bins)\n",
        "    plt.show()"
      ],
      "execution_count": null,
      "outputs": []
    },
    {
      "cell_type": "code",
      "metadata": {
        "id": "7fwh9OhW-UkP"
      },
      "source": [
        "show_dist(df, 'count')"
      ],
      "execution_count": null,
      "outputs": []
    },
    {
      "cell_type": "code",
      "metadata": {
        "colab": {
          "base_uri": "https://localhost:8080/"
        },
        "id": "503gk2gDR2zx",
        "outputId": "a81d2225-048d-4204-fdbd-ffdc2ad5b1fb"
      },
      "source": [
        "import re\n",
        "!pip install nltk\n",
        "from nltk.corpus import stopwords\n",
        "import nltk\n",
        "nltk.download(\"stopwords\")"
      ],
      "execution_count": 12,
      "outputs": [
        {
          "output_type": "stream",
          "text": [
            "Requirement already satisfied: nltk in /usr/local/lib/python3.7/dist-packages (3.2.5)\n",
            "Requirement already satisfied: six in /usr/local/lib/python3.7/dist-packages (from nltk) (1.15.0)\n",
            "[nltk_data] Downloading package stopwords to /root/nltk_data...\n",
            "[nltk_data]   Package stopwords is already up-to-date!\n"
          ],
          "name": "stdout"
        },
        {
          "output_type": "execute_result",
          "data": {
            "text/plain": [
              "True"
            ]
          },
          "metadata": {
            "tags": []
          },
          "execution_count": 12
        }
      ]
    },
    {
      "cell_type": "markdown",
      "metadata": {
        "id": "oAQGBOgu_a8J"
      },
      "source": [
        "Quitamos palabras que no tengan valor semántico como artículos, preposiciones, conectores. Quitamos usuario mencionado con @, quitamos links y urls publicadas"
      ]
    },
    {
      "cell_type": "code",
      "metadata": {
        "id": "4V_NWNVQ-UkX",
        "colab": {
          "base_uri": "https://localhost:8080/"
        },
        "outputId": "3710ddaa-d419-43f0-9243-cdca08d9f6c6"
      },
      "source": [
        "class CleanText(BaseEstimator, TransformerMixin):\n",
        "    @staticmethod\n",
        "    def _remove_mentions(input_text):\n",
        "        return re.sub(r'@\\w+', '', input_text)\n",
        "\n",
        "    @staticmethod\n",
        "    def _remove_urls(input_text):\n",
        "        return re.sub(r'http.?://[^\\s]+[\\s]?', '', input_text)\n",
        "\n",
        "    @staticmethod\n",
        "    def _remove_stopwords(input_text):\n",
        "        stopwords_list = stopwords.words('english')\n",
        "        whitelist = [[\"n't\", \"not\", \"no\"]]\n",
        "        words = input_text.split() \n",
        "        clean_words = [word for word in words if (word not in stopwords_list or word in whitelist) and len(word) > 1] \n",
        "        return \" \".join(clean_words)\n",
        "\n",
        "    @staticmethod\n",
        "    def _remove_digits(input_text):\n",
        "        return re.sub('\\d+', '', input_text)\n",
        "\n",
        "    @staticmethod\n",
        "    def _to_lower(input_text):\n",
        "        return input_text.lower()\n",
        "    \n",
        "    def fit(self, X, y=None, **fit_params):\n",
        "        return self\n",
        "    \n",
        "    def transform(self, X, **transform_params):\n",
        "        clean_X = X.apply(self._remove_mentions).apply(self._remove_urls).apply(self._remove_stopwords).apply(self._remove_digits).apply(self._to_lower)\n",
        "        return clean_X\n",
        "    \n",
        "\n",
        "ct = CleanText()\n",
        "sr_clean = ct.fit_transform(df.text)\n",
        "sr_clean.sample(5)"
      ],
      "execution_count": 13,
      "outputs": [
        {
          "output_type": "execute_result",
          "data": {
            "text/plain": [
              "4472    wife's rr pts expired days ago, planning fligh...\n",
              "4628                          days ago. miss warm weather\n",
              "2016                         one lady helping  us luggage\n",
              "5978    rude customer svc, accommodate earlier flight ...\n",
              "8694                                   always pleasure ☺️\n",
              "Name: text, dtype: object"
            ]
          },
          "metadata": {
            "tags": []
          },
          "execution_count": 13
        }
      ]
    },
    {
      "cell_type": "markdown",
      "metadata": {
        "id": "RkPlLzqJ-UkZ"
      },
      "source": [
        "## Palabras más frecuentes"
      ]
    },
    {
      "cell_type": "code",
      "metadata": {
        "id": "wwDic0Co-Uka",
        "colab": {
          "base_uri": "https://localhost:8080/",
          "height": 606
        },
        "outputId": "4433a5b6-9a08-457a-9322-7bf73d6efd72"
      },
      "source": [
        "import collections\n",
        "\n",
        "cv = CountVectorizer()\n",
        "bow = cv.fit_transform(sr_clean)\n",
        "word_freq = dict(zip(cv.get_feature_names(), np.asarray(bow.sum(axis=0)).ravel()))\n",
        "word_counter = collections.Counter(word_freq)\n",
        "word_counter_df = pd.DataFrame(word_counter.most_common(20), columns = ['word', 'freq'])\n",
        "fig, ax = plt.subplots(figsize=(12, 10))\n",
        "sns.barplot(x=\"word\", y=\"freq\", data=word_counter_df, palette=\"PuBuGn_d\", ax=ax)\n",
        "plt.show();"
      ],
      "execution_count": 14,
      "outputs": [
        {
          "output_type": "display_data",
          "data": {
            "image/png": "[encoded data removed]",
            "text/plain": [
              "<Figure size 864x720 with 1 Axes>"
            ]
          },
          "metadata": {
            "tags": [],
            "needs_background": "light"
          }
        }
      ]
    },
    {
      "cell_type": "code",
      "metadata": {
        "id": "uvMPISUf-Uke",
        "colab": {
          "base_uri": "https://localhost:8080/"
        },
        "outputId": "ebd2f46a-5693-48c3-f7a3-c3b53273199e"
      },
      "source": [
        "df=df.sample(frac=0.4)\n",
        "df.shape"
      ],
      "execution_count": 15,
      "outputs": [
        {
          "output_type": "execute_result",
          "data": {
            "text/plain": [
              "(5856, 16)"
            ]
          },
          "metadata": {
            "tags": []
          },
          "execution_count": 15
        }
      ]
    },
    {
      "cell_type": "code",
      "metadata": {
        "colab": {
          "base_uri": "https://localhost:8080/"
        },
        "id": "uAQqDJaRSzvA",
        "outputId": "60882ba9-1607-42ea-e0c1-8c10aa7b7656"
      },
      "source": [
        "df.airline_sentiment.value_counts() #positivos y neutrales en una clase para hacer observaciones bianarias"
      ],
      "execution_count": 16,
      "outputs": [
        {
          "output_type": "execute_result",
          "data": {
            "text/plain": [
              "negative    3663\n",
              "neutral     1220\n",
              "positive     973\n",
              "Name: airline_sentiment, dtype: int64"
            ]
          },
          "metadata": {
            "tags": []
          },
          "execution_count": 16
        }
      ]
    },
    {
      "cell_type": "code",
      "metadata": {
        "colab": {
          "base_uri": "https://localhost:8080/"
        },
        "id": "iaaZB3HYS9x0",
        "outputId": "6b66f6f2-de2c-4b3e-d5b7-50d05ee9e9f0"
      },
      "source": [
        "df['airline_sentiment'] = df['airline_sentiment'].replace({'neutral':'positive'})\n",
        "df.airline_sentiment.value_counts()"
      ],
      "execution_count": 17,
      "outputs": [
        {
          "output_type": "execute_result",
          "data": {
            "text/plain": [
              "negative    3663\n",
              "positive    2193\n",
              "Name: airline_sentiment, dtype: int64"
            ]
          },
          "metadata": {
            "tags": []
          },
          "execution_count": 17
        }
      ]
    },
    {
      "cell_type": "markdown",
      "metadata": {
        "id": "S-qCuVHu-Ukf"
      },
      "source": [
        "## Modelo TfidVerctorizer\n",
        "### Esto además de la frecuencia tiene en cuenta el peso de la palabra si figura menos veces"
      ]
    },
    {
      "cell_type": "code",
      "metadata": {
        "id": "hCaPhmPm-Ukf",
        "colab": {
          "base_uri": "https://localhost:8080/"
        },
        "outputId": "c5deca61-637a-4ec9-d386-9fbb22d25498"
      },
      "source": [
        "from sklearn.feature_extraction.text import TfidfVectorizer\n",
        "\n",
        "stop_words = stopwords.words('english');\n",
        "\n",
        "Train,Test=train_test_split(df[['text','airline_sentiment']],stratify=df['airline_sentiment'],random_state=3);\n",
        "\n",
        "Train.reset_index(drop=True,inplace=True);\n",
        "Test.reset_index(drop=True,inplace=True);\n",
        "\n",
        "tvectorizer=TfidfVectorizer(strip_accents='unicode',stop_words=stop_words, ngram_range= (1,2));\n",
        "tvectorizer.fit(Train['text']);\n",
        "\n",
        "X_train=tvectorizer.fit_transform(Train['text']);\n",
        "X_test=tvectorizer.transform(Test['text']);\n",
        "\n",
        "y_train=Train['airline_sentiment'];\n",
        "y_test=Test['airline_sentiment'];\n",
        "\n",
        "NBC=MultinomialNB();\n",
        "\n",
        "NBC.fit(X_train.todense(),Train['airline_sentiment']);\n",
        "\n",
        "test_pred=NBC.predict(X_test.todense());\n",
        "\n",
        "print('Training set shape:',X_train.shape)\n",
        "\n",
        "print('\\nTest Accuracy:',accuracy_score(Test['airline_sentiment'],test_pred))\n",
        "\n",
        "print('\\nConfusion Matrix:\\n',confusion_matrix(Test['airline_sentiment'],test_pred))\n"
      ],
      "execution_count": 18,
      "outputs": [
        {
          "output_type": "stream",
          "text": [
            "Training set shape: (4392, 33275)\n",
            "\n",
            "Test Accuracy: 0.7151639344262295\n",
            "\n",
            "Confusion Matrix:\n",
            " [[906  10]\n",
            " [407 141]]\n"
          ],
          "name": "stdout"
        }
      ]
    },
    {
      "cell_type": "code",
      "metadata": {
        "id": "0xNiiHd--Ukh",
        "colab": {
          "base_uri": "https://localhost:8080/"
        },
        "outputId": "3f7d03ac-8818-442e-da86-725ab9c8ee14"
      },
      "source": [
        "skf=StratifiedKFold(n_splits=3,random_state=0,shuffle=True);\n",
        "\n",
        "params={'alpha':np.arange(0.1,2,0.1)};\n",
        "GS_CV=GridSearchCV(MultinomialNB(),params,cv=skf,verbose=1,n_jobs=-1);\n",
        "GS_CV.fit(X_train,y_train);\n",
        "print('best score:',GS_CV.best_score_)\n",
        "print('best params:',GS_CV.best_params_)\n",
        "\n",
        "best_model=GS_CV.best_estimator_;\n",
        "best_model.fit(X_train,y_train); # entrenamos en todo el training set\n",
        "\n",
        "print('\\nTest set:\\n')\n",
        "\n",
        "test_pred=best_model.predict(X_test);\n",
        "\n",
        "print('accuracy:',accuracy_score(Test['airline_sentiment'],test_pred))\n",
        "\n",
        "print('\\nconfusion:\\n',confusion_matrix(Test['airline_sentiment'],test_pred))"
      ],
      "execution_count": 19,
      "outputs": [
        {
          "output_type": "stream",
          "text": [
            "Fitting 3 folds for each of 19 candidates, totalling 57 fits\n"
          ],
          "name": "stdout"
        },
        {
          "output_type": "stream",
          "text": [
            "[Parallel(n_jobs=-1)]: Using backend LokyBackend with 2 concurrent workers.\n"
          ],
          "name": "stderr"
        },
        {
          "output_type": "stream",
          "text": [
            "best score: 0.765255009107468\n",
            "best params: {'alpha': 0.2}\n",
            "\n",
            "Test set:\n",
            "\n",
            "accuracy: 0.7793715846994536\n",
            "\n",
            "confusion:\n",
            " [[884  32]\n",
            " [291 257]]\n"
          ],
          "name": "stdout"
        },
        {
          "output_type": "stream",
          "text": [
            "[Parallel(n_jobs=-1)]: Done  57 out of  57 | elapsed:    1.6s finished\n"
          ],
          "name": "stderr"
        }
      ]
    },
    {
      "cell_type": "code",
      "metadata": {
        "id": "jVEvJK03-Ukj",
        "colab": {
          "base_uri": "https://localhost:8080/",
          "height": 979
        },
        "outputId": "85c29f0e-3131-43b8-e1e6-8306a494278d"
      },
      "source": [
        "relative_importance=best_model.feature_log_prob_[0]/best_model.feature_log_prob_[1];\n",
        "#relative_importance < 1 implica que\n",
        "# el coeficiente asignado en la clase 0 es mayor que en la clase 1 y vicevera\n",
        "\n",
        "sns.distplot(relative_importance)\n",
        "plt.xlabel('Importancia Relativa')\n",
        "\n",
        "features=np.array(tvectorizer.get_feature_names());\n",
        "\n",
        "indices=np.argsort(relative_importance);\n",
        "\n",
        "print('Términos representativos de negativos:\\n')\n",
        "print(features[indices[:100]])\n",
        "\n",
        "print('\\nTérminos representativos de neutrales/positivos:\\n')\n",
        "print(features[indices[-100:]])\n"
      ],
      "execution_count": 20,
      "outputs": [
        {
          "output_type": "stream",
          "text": [
            "/usr/local/lib/python3.7/dist-packages/seaborn/distributions.py:2557: FutureWarning: `distplot` is a deprecated function and will be removed in a future version. Please adapt your code to use either `displot` (a figure-level function with similar flexibility) or `histplot` (an axes-level function for histograms).\n",
            "  warnings.warn(msg, FutureWarning)\n"
          ],
          "name": "stderr"
        },
        {
          "output_type": "stream",
          "text": [
            "Términos representativos de negativos:\n",
            "\n",
            "['worst' 'flight cancelled' 'hours' 'flight delayed' 'rude' 'without'\n",
            " 'unacceptable' 'hold' 'ridiculous' 'delayed' 'hold hours' 'call back'\n",
            " 'mins' 'hung' 'late flightr' 'hour' 'hr' 'suck' 'stranded' 'stuck' 'hrs'\n",
            " 'almost' 'horrible' 'flightled flight' 'hour delay' 'hate' 'worse'\n",
            " 'hours late' 'lose' 'sit' 'terrible' 'luggage' 'counting' 'communication'\n",
            " 'waiting' 'missed' 'vacation' 'answer' '200' 'baggage claim' 'nothing'\n",
            " 'line' 'never fly' 'worst customer' 'upset' 'experience ever' 'lack'\n",
            " 'counter' 'tarmac' 'half' 'flighting flight' 'sitting plane' 'paid'\n",
            " 'boarded' 'suitcase' 'minutes' 'fix' 'offered' 'hotel' 'whole' '30 min'\n",
            " 'solution' 'miss connection' 'flighted' 'needed' 'error' 'late'\n",
            " 'frustrated' 'cancelled flighted' 'refused' 'delay' 'system' 'waited'\n",
            " 'worst airline' 'delayed hours' 'phone' 'delivered' 'awful' 'flightr'\n",
            " 'wtf' 'claim' 'told' 'almost hour' 'attitude' 'two hours' 'crazy'\n",
            " 'answers' 'tried' 'inconvenience' 'hang' 'terrible customer' 'dont'\n",
            " 'delayed flight' 'cancelled' 'hour flight' 'treated' 'clearly'\n",
            " 'lost luggage' 'spent' 'apology']\n",
            "\n",
            "Términos representativos de neutrales/positivos:\n",
            "\n",
            "['okay rt' 'beautiful' '3472' 'cri' 'gerne' 'lmfao' 'flite454' 'mines'\n",
            " 'amen' 'awwweesssooomee' 'lolol' 'winner' 'replying' 'yes please'\n",
            " 'personalized' 'service thanks' 'anniversary' 'thank finally' 'news'\n",
            " 'found flight' 'digital' 'thank see' 'thanks hope' 'worries' 'buying'\n",
            " 'vegas show' 'flight thank' 'back dm' 'winners' 'november' 'watching'\n",
            " 'livery' 'favorite' 'best follow' 'hi guys' 'jblu' 'thanks info'\n",
            " 'thank appreciate' 'quick response' 'omg' 'great thanks' 'discount'\n",
            " 'expanding' 'flights dfw' 'would great' 'republican american'\n",
            " 'street waterbury' 'republican' 'waterbury republican' 'waterbury'\n",
            " 'wearing' 'need follow' 'item' 'love southwest' 'long flight' 'see soon'\n",
            " 'thank guys' 'thanks help' 'hawaii' 'guys best' 'follow dm' 'daily'\n",
            " 'birds' 'thank confirmation' 'great' 'get tickets' 'dm sent' 'ok thanks'\n",
            " 'thanks good' 'selfie' 'okay thanks' 'thanks guys' 'fleet' 'follow back'\n",
            " 'great flight' 'boss' 'fav' 'kudos' 'fleet fleek' 'dream' 'follow'\n",
            " 'fleek' 'good work' 'keep good' 'passbook' 'march' 'good morning' 'deals'\n",
            " 'check dm' 'guys rock' 'best airline' 'journal' 'great thank' 'thanks'\n",
            " 'follow please' 'rock' 'awesome' 'awesome thanks' 'thank much' 'thank']\n"
          ],
          "name": "stdout"
        },
        {
          "output_type": "display_data",
          "data": {
            "image/png": "[encoded data removed]",
            "text/plain": [
              "<Figure size 432x288 with 1 Axes>"
            ]
          },
          "metadata": {
            "tags": [],
            "needs_background": "light"
          }
        }
      ]
    },
    {
      "cell_type": "markdown",
      "metadata": {
        "id": "6j4ZbE2f-Ukk"
      },
      "source": [
        "## Modelo CountVectorizer"
      ]
    },
    {
      "cell_type": "code",
      "metadata": {
        "id": "bTUmz1Xe-Ukk",
        "colab": {
          "base_uri": "https://localhost:8080/"
        },
        "outputId": "65003cf4-8688-4f12-e040-a152f7974de2"
      },
      "source": [
        "stop_words = stopwords.words('english');\n",
        "\n",
        "Train,Test=train_test_split(df[['text','airline_sentiment']],stratify=df['airline_sentiment'],random_state=3);\n",
        "\n",
        "Train.reset_index(drop=True,inplace=True);\n",
        "Test.reset_index(drop=True,inplace=True);\n",
        "\n",
        "vectorizer=CountVectorizer(strip_accents='unicode',stop_words=stop_words, ngram_range= (1,2));\n",
        "vectorizer.fit(Train['text']);\n",
        "\n",
        "X_train=vectorizer.fit_transform(Train['text']);\n",
        "X_test=vectorizer.transform(Test['text']);\n",
        "\n",
        "y_train=Train['airline_sentiment'];\n",
        "y_test=Test['airline_sentiment'];\n",
        "\n",
        "NBC=MultinomialNB();\n",
        "\n",
        "NBC.fit(X_train.todense(),Train['airline_sentiment']);\n",
        "\n",
        "test_pred=NBC.predict(X_test.todense());\n",
        "\n",
        "print('Training set shape:',X_train.shape)\n",
        "\n",
        "print('\\nTest Accuracy:',accuracy_score(Test['airline_sentiment'],test_pred))\n",
        "\n",
        "print('\\nConfusion Matrix:\\n',confusion_matrix(Test['airline_sentiment'],test_pred))\n"
      ],
      "execution_count": 21,
      "outputs": [
        {
          "output_type": "stream",
          "text": [
            "Training set shape: (4392, 33275)\n",
            "\n",
            "Test Accuracy: 0.7793715846994536\n",
            "\n",
            "Confusion Matrix:\n",
            " [[879  37]\n",
            " [286 262]]\n"
          ],
          "name": "stdout"
        }
      ]
    },
    {
      "cell_type": "code",
      "metadata": {
        "id": "13LcLcGk-Ukm",
        "colab": {
          "base_uri": "https://localhost:8080/"
        },
        "outputId": "1fdb86df-0ead-4152-bf0d-8fa441699aaa"
      },
      "source": [
        "skf=StratifiedKFold(n_splits=3,random_state=0,shuffle=True);\n",
        "\n",
        "params={'alpha':np.arange(0.1,2,0.1)};\n",
        "GS_CV=GridSearchCV(MultinomialNB(),params,cv=skf,verbose=1,n_jobs=-1);\n",
        "GS_CV.fit(X_train,y_train);\n",
        "print('best score:',GS_CV.best_score_)\n",
        "print('best params:',GS_CV.best_params_)\n",
        "\n",
        "best_model=GS_CV.best_estimator_;\n",
        "best_model.fit(X_train,y_train); # entrenamos en todo el training set\n",
        "\n",
        "print('\\nTest set:\\n')\n",
        "\n",
        "test_pred=best_model.predict(X_test);\n",
        "\n",
        "print('accuracy:',accuracy_score(Test['airline_sentiment'],test_pred))\n",
        "\n",
        "print('\\nconfusion:\\n',confusion_matrix(Test['airline_sentiment'],test_pred))"
      ],
      "execution_count": 22,
      "outputs": [
        {
          "output_type": "stream",
          "text": [
            "Fitting 3 folds for each of 19 candidates, totalling 57 fits\n"
          ],
          "name": "stdout"
        },
        {
          "output_type": "stream",
          "text": [
            "[Parallel(n_jobs=-1)]: Using backend LokyBackend with 2 concurrent workers.\n"
          ],
          "name": "stderr"
        },
        {
          "output_type": "stream",
          "text": [
            "best score: 0.7727686703096538\n",
            "best params: {'alpha': 1.3000000000000003}\n",
            "\n",
            "Test set:\n",
            "\n",
            "accuracy: 0.7739071038251366\n",
            "\n",
            "confusion:\n",
            " [[890  26]\n",
            " [305 243]]\n"
          ],
          "name": "stdout"
        },
        {
          "output_type": "stream",
          "text": [
            "[Parallel(n_jobs=-1)]: Done  57 out of  57 | elapsed:    0.7s finished\n"
          ],
          "name": "stderr"
        }
      ]
    },
    {
      "cell_type": "code",
      "metadata": {
        "id": "ypHDK-Fq-Uko",
        "colab": {
          "base_uri": "https://localhost:8080/",
          "height": 962
        },
        "outputId": "53730604-b466-4e5a-a485-014d925740a2"
      },
      "source": [
        "relative_importance=best_model.feature_log_prob_[0]/best_model.feature_log_prob_[1];\n",
        "#relative_importance < 1 implica que\n",
        "# el coeficiente asignado en la clase 0 es mayor que en la clase 1 y vicevera\n",
        "\n",
        "sns.distplot(relative_importance)\n",
        "plt.xlabel('Importancia Relativa')\n",
        "\n",
        "features=np.array(vectorizer.get_feature_names());\n",
        "\n",
        "indices=np.argsort(relative_importance);\n",
        "\n",
        "print('Términos representativos de negativos:\\n')\n",
        "print(features[indices[:100]])\n",
        "\n",
        "print('\\nTérminos representativos de neutrales/positivos:\\n')\n",
        "print(features[indices[-100:]])\n"
      ],
      "execution_count": 23,
      "outputs": [
        {
          "output_type": "stream",
          "text": [
            "/usr/local/lib/python3.7/dist-packages/seaborn/distributions.py:2557: FutureWarning: `distplot` is a deprecated function and will be removed in a future version. Please adapt your code to use either `displot` (a figure-level function with similar flexibility) or `histplot` (an axes-level function for histograms).\n",
            "  warnings.warn(msg, FutureWarning)\n"
          ],
          "name": "stderr"
        },
        {
          "output_type": "stream",
          "text": [
            "Términos representativos de negativos:\n",
            "\n",
            "['hours' 'worst' 'flight cancelled' 'hold' 'rude' 'delayed'\n",
            " 'flight delayed' 'late flightr' 'without' 'hour' 'stuck' 'hrs'\n",
            " 'unacceptable' 'ridiculous' 'mins' 'call back' 'waiting' 'hr' 'luggage'\n",
            " 'hold hours' 'missed' 'hung' 'stranded' 'flightled flight' 'almost'\n",
            " 'line' 'worse' 'flighted' 'late' 'cancelled flighted' 'flightr' 'hotel'\n",
            " 'communication' 'horrible' 'hours late' 'cancelled' 'minutes' 'tarmac'\n",
            " 'sit' 'system' 'phone' 'told' 'delay' '200' 'hour delay' 'nothing'\n",
            " 'answer' 'tried' 'min' 'vacation' 'terrible' 'baggage claim' 'claim'\n",
            " 'fix' 'flightled' 'bags' 'cancelled flightled' 'awful' 'half' 'counting'\n",
            " 'lack' 'counter' 'paid' '10' '30 min' 'suck' 'upset' 'error' 'needed'\n",
            " 'call' 'waited' 'sitting' 'seriously' 'never' 'whole' 'lose' 'offered'\n",
            " 'boarded' 'worst customer' 'miss connection' 'delivered' 'sitting plane'\n",
            " 'still' 'lost' 'said' 'cancelled flight' 'saying' 'plane' 'agents'\n",
            " 'frustrated' 'wtf' 'delayed hours' 'suitcase' 'hate' 'flighting flight'\n",
            " 'two hours' 'refused' 'answers' 'poor' 'supposed']\n",
            "\n",
            "Términos representativos de neutrales/positivos:\n",
            "\n",
            "['inspired' 'great thank' 'tsa pre' 'would great' 'flights dfw'\n",
            " 'twitter team' 'shortly' 'oh god' 'boss' '15th' 'buying' 'guys best'\n",
            " 'discounts' 'got new' 'offer access' 'okay thanks' 'got fixed'\n",
            " 'access journal' 'complain' 'accidentally' 'best' 'appease' 'warm'\n",
            " 'excellent' 'battles' 'battles appease' 'welcome' 'perfect' 'fantastic'\n",
            " 'thanks help' 'appease passengers' 'hi' 'news' 'passengers wall'\n",
            " 'worries' 'wall' 'thanks good' 'anniversary' 'hi guys' 'ok thanks'\n",
            " 'thanks guys' 'beautiful' 'favorite' 'watching' 'vegas show' 'sooner'\n",
            " 'best airline' 'follow back' 'see soon' 'check dm' 'promo' 'digital'\n",
            " 'good morning' 'quick response' 'dream' 'livery' 'deserves'\n",
            " 'love southwest' 'rt' 'chance' 'wall street' 'omg' 'raise' 'street'\n",
            " 'amazing' 'love' 'ceo' 'thanks' 'waterbury' 'republican american'\n",
            " 'get tickets' 'jblu' 'street waterbury' 'waterbury republican' 'discount'\n",
            " 'republican' 'follow please' 'guys rock' 'birds' 'great' 'fleet'\n",
            " 'follow dm' 'follow' 'daily' 'deals' 'item' 'fleet fleek' 'great flight'\n",
            " 'fleek' 'awesome thanks' 'keep good' 'good work' 'rock' 'passbook'\n",
            " 'journal' 'kudos' 'march' 'awesome' 'thank much' 'thank']\n"
          ],
          "name": "stdout"
        },
        {
          "output_type": "display_data",
          "data": {
            "image/png": "[encoded data removed]",
            "text/plain": [
              "<Figure size 432x288 with 1 Axes>"
            ]
          },
          "metadata": {
            "tags": [],
            "needs_background": "light"
          }
        }
      ]
    }
  ]
}